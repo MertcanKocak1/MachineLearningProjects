{
 "cells": [
  {
   "cell_type": "code",
   "execution_count": 1,
   "metadata": {},
   "outputs": [],
   "source": [
    "import pandas as pd \n",
    "import numpy as np \n",
    "from sklearn.model_selection import GridSearchCV,RandomizedSearchCV,train_test_split,cross_val_predict,cross_val_score\n",
    "from sklearn.ensemble import RandomForestRegressor\n",
    "import matplotlib.pyplot as plt "
   ]
  },
  {
   "cell_type": "code",
   "execution_count": 2,
   "metadata": {},
   "outputs": [
    {
     "data": {
      "text/html": [
       "<div>\n",
       "<style scoped>\n",
       "    .dataframe tbody tr th:only-of-type {\n",
       "        vertical-align: middle;\n",
       "    }\n",
       "\n",
       "    .dataframe tbody tr th {\n",
       "        vertical-align: top;\n",
       "    }\n",
       "\n",
       "    .dataframe thead th {\n",
       "        text-align: right;\n",
       "    }\n",
       "</style>\n",
       "<table border=\"1\" class=\"dataframe\">\n",
       "  <thead>\n",
       "    <tr style=\"text-align: right;\">\n",
       "      <th></th>\n",
       "      <th>OpeningTime</th>\n",
       "      <th>Open</th>\n",
       "      <th>High</th>\n",
       "      <th>Low</th>\n",
       "      <th>Close</th>\n",
       "      <th>Volume</th>\n",
       "      <th>CloseTime</th>\n",
       "      <th>RSI</th>\n",
       "      <th>MACD</th>\n",
       "      <th>MACDSIGNAL</th>\n",
       "      <th>MACDHIST</th>\n",
       "      <th>STOCHK</th>\n",
       "      <th>STOCHD</th>\n",
       "      <th>PredictValue</th>\n",
       "    </tr>\n",
       "  </thead>\n",
       "  <tbody>\n",
       "    <tr>\n",
       "      <th>0</th>\n",
       "      <td>1578739500000</td>\n",
       "      <td>8054.34</td>\n",
       "      <td>8083.42</td>\n",
       "      <td>8054.34</td>\n",
       "      <td>8080.11</td>\n",
       "      <td>141.913060</td>\n",
       "      <td>1578739799999</td>\n",
       "      <td>50.52</td>\n",
       "      <td>1.02</td>\n",
       "      <td>8.64</td>\n",
       "      <td>-7.63</td>\n",
       "      <td>31.91</td>\n",
       "      <td>24.17</td>\n",
       "      <td>8050.37</td>\n",
       "    </tr>\n",
       "    <tr>\n",
       "      <th>1</th>\n",
       "      <td>1578739800000</td>\n",
       "      <td>8081.09</td>\n",
       "      <td>8081.30</td>\n",
       "      <td>8050.37</td>\n",
       "      <td>8050.37</td>\n",
       "      <td>128.045741</td>\n",
       "      <td>1578740099999</td>\n",
       "      <td>42.11</td>\n",
       "      <td>-1.64</td>\n",
       "      <td>6.59</td>\n",
       "      <td>-8.23</td>\n",
       "      <td>27.88</td>\n",
       "      <td>24.98</td>\n",
       "      <td>8054.03</td>\n",
       "    </tr>\n",
       "    <tr>\n",
       "      <th>2</th>\n",
       "      <td>1578740100000</td>\n",
       "      <td>8050.27</td>\n",
       "      <td>8059.39</td>\n",
       "      <td>8042.89</td>\n",
       "      <td>8054.03</td>\n",
       "      <td>193.106203</td>\n",
       "      <td>1578740399999</td>\n",
       "      <td>43.36</td>\n",
       "      <td>-3.41</td>\n",
       "      <td>4.59</td>\n",
       "      <td>-8.00</td>\n",
       "      <td>35.03</td>\n",
       "      <td>31.61</td>\n",
       "      <td>8027.63</td>\n",
       "    </tr>\n",
       "    <tr>\n",
       "      <th>3</th>\n",
       "      <td>1578740400000</td>\n",
       "      <td>8054.03</td>\n",
       "      <td>8054.03</td>\n",
       "      <td>8020.00</td>\n",
       "      <td>8027.63</td>\n",
       "      <td>290.159767</td>\n",
       "      <td>1578740699999</td>\n",
       "      <td>37.13</td>\n",
       "      <td>-6.87</td>\n",
       "      <td>2.30</td>\n",
       "      <td>-9.16</td>\n",
       "      <td>13.17</td>\n",
       "      <td>25.36</td>\n",
       "      <td>8026.66</td>\n",
       "    </tr>\n",
       "    <tr>\n",
       "      <th>4</th>\n",
       "      <td>1578740700000</td>\n",
       "      <td>8029.22</td>\n",
       "      <td>8036.72</td>\n",
       "      <td>8010.00</td>\n",
       "      <td>8026.66</td>\n",
       "      <td>243.755800</td>\n",
       "      <td>1578740999999</td>\n",
       "      <td>36.92</td>\n",
       "      <td>-9.57</td>\n",
       "      <td>-0.08</td>\n",
       "      <td>-9.50</td>\n",
       "      <td>20.74</td>\n",
       "      <td>22.98</td>\n",
       "      <td>8037.00</td>\n",
       "    </tr>\n",
       "  </tbody>\n",
       "</table>\n",
       "</div>"
      ],
      "text/plain": [
       "     OpeningTime     Open     High      Low    Close      Volume  \\\n",
       "0  1578739500000  8054.34  8083.42  8054.34  8080.11  141.913060   \n",
       "1  1578739800000  8081.09  8081.30  8050.37  8050.37  128.045741   \n",
       "2  1578740100000  8050.27  8059.39  8042.89  8054.03  193.106203   \n",
       "3  1578740400000  8054.03  8054.03  8020.00  8027.63  290.159767   \n",
       "4  1578740700000  8029.22  8036.72  8010.00  8026.66  243.755800   \n",
       "\n",
       "       CloseTime    RSI  MACD  MACDSIGNAL  MACDHIST  STOCHK  STOCHD  \\\n",
       "0  1578739799999  50.52  1.02        8.64     -7.63   31.91   24.17   \n",
       "1  1578740099999  42.11 -1.64        6.59     -8.23   27.88   24.98   \n",
       "2  1578740399999  43.36 -3.41        4.59     -8.00   35.03   31.61   \n",
       "3  1578740699999  37.13 -6.87        2.30     -9.16   13.17   25.36   \n",
       "4  1578740999999  36.92 -9.57       -0.08     -9.50   20.74   22.98   \n",
       "\n",
       "   PredictValue  \n",
       "0       8050.37  \n",
       "1       8054.03  \n",
       "2       8027.63  \n",
       "3       8026.66  \n",
       "4       8037.00  "
      ]
     },
     "execution_count": 2,
     "metadata": {},
     "output_type": "execute_result"
    }
   ],
   "source": [
    "data = pd.read_csv(\"NewMachine.csv\")\n",
    "data.head()"
   ]
  },
  {
   "cell_type": "code",
   "execution_count": 3,
   "metadata": {},
   "outputs": [
    {
     "data": {
      "text/html": [
       "<div>\n",
       "<style scoped>\n",
       "    .dataframe tbody tr th:only-of-type {\n",
       "        vertical-align: middle;\n",
       "    }\n",
       "\n",
       "    .dataframe tbody tr th {\n",
       "        vertical-align: top;\n",
       "    }\n",
       "\n",
       "    .dataframe thead th {\n",
       "        text-align: right;\n",
       "    }\n",
       "</style>\n",
       "<table border=\"1\" class=\"dataframe\">\n",
       "  <thead>\n",
       "    <tr style=\"text-align: right;\">\n",
       "      <th></th>\n",
       "      <th>Open</th>\n",
       "      <th>High</th>\n",
       "      <th>Low</th>\n",
       "      <th>Close</th>\n",
       "      <th>Volume</th>\n",
       "      <th>RSI</th>\n",
       "      <th>MACD</th>\n",
       "      <th>MACDSIGNAL</th>\n",
       "      <th>MACDHIST</th>\n",
       "      <th>STOCHK</th>\n",
       "      <th>STOCHD</th>\n",
       "      <th>PredictValue</th>\n",
       "    </tr>\n",
       "  </thead>\n",
       "  <tbody>\n",
       "    <tr>\n",
       "      <th>0</th>\n",
       "      <td>8054.34</td>\n",
       "      <td>8083.42</td>\n",
       "      <td>8054.34</td>\n",
       "      <td>8080.11</td>\n",
       "      <td>141.913060</td>\n",
       "      <td>50.52</td>\n",
       "      <td>1.02</td>\n",
       "      <td>8.64</td>\n",
       "      <td>-7.63</td>\n",
       "      <td>31.91</td>\n",
       "      <td>24.17</td>\n",
       "      <td>8050.37</td>\n",
       "    </tr>\n",
       "    <tr>\n",
       "      <th>1</th>\n",
       "      <td>8081.09</td>\n",
       "      <td>8081.30</td>\n",
       "      <td>8050.37</td>\n",
       "      <td>8050.37</td>\n",
       "      <td>128.045741</td>\n",
       "      <td>42.11</td>\n",
       "      <td>-1.64</td>\n",
       "      <td>6.59</td>\n",
       "      <td>-8.23</td>\n",
       "      <td>27.88</td>\n",
       "      <td>24.98</td>\n",
       "      <td>8054.03</td>\n",
       "    </tr>\n",
       "    <tr>\n",
       "      <th>2</th>\n",
       "      <td>8050.27</td>\n",
       "      <td>8059.39</td>\n",
       "      <td>8042.89</td>\n",
       "      <td>8054.03</td>\n",
       "      <td>193.106203</td>\n",
       "      <td>43.36</td>\n",
       "      <td>-3.41</td>\n",
       "      <td>4.59</td>\n",
       "      <td>-8.00</td>\n",
       "      <td>35.03</td>\n",
       "      <td>31.61</td>\n",
       "      <td>8027.63</td>\n",
       "    </tr>\n",
       "    <tr>\n",
       "      <th>3</th>\n",
       "      <td>8054.03</td>\n",
       "      <td>8054.03</td>\n",
       "      <td>8020.00</td>\n",
       "      <td>8027.63</td>\n",
       "      <td>290.159767</td>\n",
       "      <td>37.13</td>\n",
       "      <td>-6.87</td>\n",
       "      <td>2.30</td>\n",
       "      <td>-9.16</td>\n",
       "      <td>13.17</td>\n",
       "      <td>25.36</td>\n",
       "      <td>8026.66</td>\n",
       "    </tr>\n",
       "    <tr>\n",
       "      <th>4</th>\n",
       "      <td>8029.22</td>\n",
       "      <td>8036.72</td>\n",
       "      <td>8010.00</td>\n",
       "      <td>8026.66</td>\n",
       "      <td>243.755800</td>\n",
       "      <td>36.92</td>\n",
       "      <td>-9.57</td>\n",
       "      <td>-0.08</td>\n",
       "      <td>-9.50</td>\n",
       "      <td>20.74</td>\n",
       "      <td>22.98</td>\n",
       "      <td>8037.00</td>\n",
       "    </tr>\n",
       "  </tbody>\n",
       "</table>\n",
       "</div>"
      ],
      "text/plain": [
       "      Open     High      Low    Close      Volume    RSI  MACD  MACDSIGNAL  \\\n",
       "0  8054.34  8083.42  8054.34  8080.11  141.913060  50.52  1.02        8.64   \n",
       "1  8081.09  8081.30  8050.37  8050.37  128.045741  42.11 -1.64        6.59   \n",
       "2  8050.27  8059.39  8042.89  8054.03  193.106203  43.36 -3.41        4.59   \n",
       "3  8054.03  8054.03  8020.00  8027.63  290.159767  37.13 -6.87        2.30   \n",
       "4  8029.22  8036.72  8010.00  8026.66  243.755800  36.92 -9.57       -0.08   \n",
       "\n",
       "   MACDHIST  STOCHK  STOCHD  PredictValue  \n",
       "0     -7.63   31.91   24.17       8050.37  \n",
       "1     -8.23   27.88   24.98       8054.03  \n",
       "2     -8.00   35.03   31.61       8027.63  \n",
       "3     -9.16   13.17   25.36       8026.66  \n",
       "4     -9.50   20.74   22.98       8037.00  "
      ]
     },
     "execution_count": 3,
     "metadata": {},
     "output_type": "execute_result"
    }
   ],
   "source": [
    "del data['OpeningTime']\n",
    "del data['CloseTime']\n",
    "data.head()"
   ]
  },
  {
   "cell_type": "code",
   "execution_count": 4,
   "metadata": {},
   "outputs": [
    {
     "data": {
      "text/html": [
       "<div>\n",
       "<style scoped>\n",
       "    .dataframe tbody tr th:only-of-type {\n",
       "        vertical-align: middle;\n",
       "    }\n",
       "\n",
       "    .dataframe tbody tr th {\n",
       "        vertical-align: top;\n",
       "    }\n",
       "\n",
       "    .dataframe thead th {\n",
       "        text-align: right;\n",
       "    }\n",
       "</style>\n",
       "<table border=\"1\" class=\"dataframe\">\n",
       "  <thead>\n",
       "    <tr style=\"text-align: right;\">\n",
       "      <th></th>\n",
       "      <th>Open</th>\n",
       "      <th>High</th>\n",
       "      <th>Low</th>\n",
       "      <th>Close</th>\n",
       "      <th>Volume</th>\n",
       "      <th>RSI</th>\n",
       "      <th>MACD</th>\n",
       "      <th>MACDSIGNAL</th>\n",
       "      <th>MACDHIST</th>\n",
       "      <th>STOCHK</th>\n",
       "      <th>STOCHD</th>\n",
       "    </tr>\n",
       "  </thead>\n",
       "  <tbody>\n",
       "    <tr>\n",
       "      <th>0</th>\n",
       "      <td>8054.34</td>\n",
       "      <td>8083.42</td>\n",
       "      <td>8054.34</td>\n",
       "      <td>8080.11</td>\n",
       "      <td>141.913060</td>\n",
       "      <td>50.52</td>\n",
       "      <td>1.02</td>\n",
       "      <td>8.64</td>\n",
       "      <td>-7.63</td>\n",
       "      <td>31.91</td>\n",
       "      <td>24.17</td>\n",
       "    </tr>\n",
       "    <tr>\n",
       "      <th>1</th>\n",
       "      <td>8081.09</td>\n",
       "      <td>8081.30</td>\n",
       "      <td>8050.37</td>\n",
       "      <td>8050.37</td>\n",
       "      <td>128.045741</td>\n",
       "      <td>42.11</td>\n",
       "      <td>-1.64</td>\n",
       "      <td>6.59</td>\n",
       "      <td>-8.23</td>\n",
       "      <td>27.88</td>\n",
       "      <td>24.98</td>\n",
       "    </tr>\n",
       "    <tr>\n",
       "      <th>2</th>\n",
       "      <td>8050.27</td>\n",
       "      <td>8059.39</td>\n",
       "      <td>8042.89</td>\n",
       "      <td>8054.03</td>\n",
       "      <td>193.106203</td>\n",
       "      <td>43.36</td>\n",
       "      <td>-3.41</td>\n",
       "      <td>4.59</td>\n",
       "      <td>-8.00</td>\n",
       "      <td>35.03</td>\n",
       "      <td>31.61</td>\n",
       "    </tr>\n",
       "    <tr>\n",
       "      <th>3</th>\n",
       "      <td>8054.03</td>\n",
       "      <td>8054.03</td>\n",
       "      <td>8020.00</td>\n",
       "      <td>8027.63</td>\n",
       "      <td>290.159767</td>\n",
       "      <td>37.13</td>\n",
       "      <td>-6.87</td>\n",
       "      <td>2.30</td>\n",
       "      <td>-9.16</td>\n",
       "      <td>13.17</td>\n",
       "      <td>25.36</td>\n",
       "    </tr>\n",
       "    <tr>\n",
       "      <th>4</th>\n",
       "      <td>8029.22</td>\n",
       "      <td>8036.72</td>\n",
       "      <td>8010.00</td>\n",
       "      <td>8026.66</td>\n",
       "      <td>243.755800</td>\n",
       "      <td>36.92</td>\n",
       "      <td>-9.57</td>\n",
       "      <td>-0.08</td>\n",
       "      <td>-9.50</td>\n",
       "      <td>20.74</td>\n",
       "      <td>22.98</td>\n",
       "    </tr>\n",
       "  </tbody>\n",
       "</table>\n",
       "</div>"
      ],
      "text/plain": [
       "      Open     High      Low    Close      Volume    RSI  MACD  MACDSIGNAL  \\\n",
       "0  8054.34  8083.42  8054.34  8080.11  141.913060  50.52  1.02        8.64   \n",
       "1  8081.09  8081.30  8050.37  8050.37  128.045741  42.11 -1.64        6.59   \n",
       "2  8050.27  8059.39  8042.89  8054.03  193.106203  43.36 -3.41        4.59   \n",
       "3  8054.03  8054.03  8020.00  8027.63  290.159767  37.13 -6.87        2.30   \n",
       "4  8029.22  8036.72  8010.00  8026.66  243.755800  36.92 -9.57       -0.08   \n",
       "\n",
       "   MACDHIST  STOCHK  STOCHD  \n",
       "0     -7.63   31.91   24.17  \n",
       "1     -8.23   27.88   24.98  \n",
       "2     -8.00   35.03   31.61  \n",
       "3     -9.16   13.17   25.36  \n",
       "4     -9.50   20.74   22.98  "
      ]
     },
     "execution_count": 4,
     "metadata": {},
     "output_type": "execute_result"
    }
   ],
   "source": [
    "y = data['PredictValue']\n",
    "del data['PredictValue']\n",
    "X_train, X_test, y_train, y_test = data[:190000], data[190000:],y[:190000], y[190000:]\n",
    "data.head()"
   ]
  },
  {
   "cell_type": "code",
   "execution_count": 6,
   "metadata": {},
   "outputs": [
    {
     "data": {
      "text/plain": [
       "RandomForestRegressor()"
      ]
     },
     "execution_count": 6,
     "metadata": {},
     "output_type": "execute_result"
    }
   ],
   "source": [
    "rand_forest = RandomForestRegressor()\n",
    "rand_forest.fit(X_train,y_train)"
   ]
  },
  {
   "cell_type": "code",
   "execution_count": 28,
   "metadata": {},
   "outputs": [
    {
     "data": {
      "text/plain": [
       "(37064.74452362521, 0.9992601365929616, 0.9999962034742689)"
      ]
     },
     "execution_count": 28,
     "metadata": {},
     "output_type": "execute_result"
    }
   ],
   "source": [
    "from sklearn.metrics import accuracy_score,mean_squared_error, r2_score\n",
    "y_pred_test = rand_forest.predict(X_test)\n",
    "mean_squared_error(y_test, y_pred_test),r2_score(y_test,y_pred_test),rand_forest.score(X_train, y_train)"
   ]
  },
  {
   "cell_type": "code",
   "execution_count": 31,
   "metadata": {},
   "outputs": [
    {
     "data": {
      "text/plain": [
       "GridSearchCV(cv=5, estimator=RandomForestRegressor(),\n",
       "             param_grid=[{'max_features': [2, 4, 6, 8, 10, 11],\n",
       "                          'n_estimators': [3, 10, 30, 40, 50, 60, 80, 100]},\n",
       "                         {'bootstrap': [False],\n",
       "                          'max_features': [2, 3, 4, 6, 8, 10, 11],\n",
       "                          'n_estimators': [3, 5, 10]}],\n",
       "             return_train_score=True, scoring='neg_mean_squared_error')"
      ]
     },
     "execution_count": 31,
     "metadata": {},
     "output_type": "execute_result"
    }
   ],
   "source": [
    "from sklearn.model_selection import GridSearchCV\n",
    "param_grid = [{\n",
    "    'n_estimators': [3,10,30,40,50,60,80,100], 'max_features':[2,4,6,8,10,11]},\n",
    "    {'bootstrap':[False], 'n_estimators':[3,5,10],'max_features':[2,3,4,6,8,10,11]},\n",
    "]\n",
    "rf_reg = RandomForestRegressor()\n",
    "grid_search = GridSearchCV(rf_reg, param_grid, cv = 5, scoring = 'neg_mean_squared_error', return_train_score = True )\n",
    "grid_search.fit(X_train, y_train.values.ravel())"
   ]
  },
  {
   "cell_type": "code",
   "execution_count": 32,
   "metadata": {},
   "outputs": [
    {
     "data": {
      "text/plain": [
       "{'bootstrap': False, 'max_features': 6, 'n_estimators': 3}"
      ]
     },
     "execution_count": 32,
     "metadata": {},
     "output_type": "execute_result"
    }
   ],
   "source": [
    "grid_search.best_params_"
   ]
  },
  {
   "cell_type": "code",
   "execution_count": 33,
   "metadata": {},
   "outputs": [
    {
     "data": {
      "text/plain": [
       "-2816927.6285376856"
      ]
     },
     "execution_count": 33,
     "metadata": {},
     "output_type": "execute_result"
    }
   ],
   "source": [
    "grid_search.best_score_"
   ]
  },
  {
   "cell_type": "code",
   "execution_count": 34,
   "metadata": {},
   "outputs": [
    {
     "data": {
      "text/plain": [
       "57"
      ]
     },
     "execution_count": 34,
     "metadata": {},
     "output_type": "execute_result"
    }
   ],
   "source": [
    "grid_search.best_index_"
   ]
  },
  {
   "cell_type": "code",
   "execution_count": 36,
   "metadata": {},
   "outputs": [
    {
     "name": "stdout",
     "output_type": "stream",
     "text": [
      "1794.2663855686044 {'max_features': 2, 'n_estimators': 3}\n",
      "1762.518100055302 {'max_features': 2, 'n_estimators': 10}\n",
      "1770.6858390479283 {'max_features': 2, 'n_estimators': 30}\n",
      "1768.9052716877995 {'max_features': 2, 'n_estimators': 40}\n",
      "1769.2439095449463 {'max_features': 2, 'n_estimators': 50}\n",
      "1768.6231301304797 {'max_features': 2, 'n_estimators': 60}\n",
      "1763.8425909119987 {'max_features': 2, 'n_estimators': 80}\n",
      "1765.0320425356283 {'max_features': 2, 'n_estimators': 100}\n",
      "1727.2171932067893 {'max_features': 4, 'n_estimators': 3}\n",
      "1720.2483514509277 {'max_features': 4, 'n_estimators': 10}\n",
      "1708.981607680713 {'max_features': 4, 'n_estimators': 30}\n",
      "1718.3342447222992 {'max_features': 4, 'n_estimators': 40}\n",
      "1714.4566393846735 {'max_features': 4, 'n_estimators': 50}\n",
      "1712.7938905834312 {'max_features': 4, 'n_estimators': 60}\n",
      "1713.1490637629165 {'max_features': 4, 'n_estimators': 80}\n",
      "1716.889216424224 {'max_features': 4, 'n_estimators': 100}\n",
      "1704.8531860908554 {'max_features': 6, 'n_estimators': 3}\n",
      "1702.708553356877 {'max_features': 6, 'n_estimators': 10}\n",
      "1708.3222734511362 {'max_features': 6, 'n_estimators': 30}\n",
      "1700.4942270024867 {'max_features': 6, 'n_estimators': 40}\n",
      "1699.4576045763806 {'max_features': 6, 'n_estimators': 50}\n",
      "1701.6650274485737 {'max_features': 6, 'n_estimators': 60}\n",
      "1705.3219381323909 {'max_features': 6, 'n_estimators': 80}\n",
      "1705.7013726767095 {'max_features': 6, 'n_estimators': 100}\n",
      "1699.8637888695534 {'max_features': 8, 'n_estimators': 3}\n",
      "1708.0233865725536 {'max_features': 8, 'n_estimators': 10}\n",
      "1702.1354630352332 {'max_features': 8, 'n_estimators': 30}\n",
      "1701.2451078632942 {'max_features': 8, 'n_estimators': 40}\n",
      "1702.1644427493284 {'max_features': 8, 'n_estimators': 50}\n",
      "1694.9653266582943 {'max_features': 8, 'n_estimators': 60}\n",
      "1700.4499033945733 {'max_features': 8, 'n_estimators': 80}\n",
      "1700.1097222980004 {'max_features': 8, 'n_estimators': 100}\n",
      "1701.2222252678519 {'max_features': 10, 'n_estimators': 3}\n",
      "1703.8142262851698 {'max_features': 10, 'n_estimators': 10}\n",
      "1695.6514418817098 {'max_features': 10, 'n_estimators': 30}\n",
      "1699.7064327006215 {'max_features': 10, 'n_estimators': 40}\n",
      "1699.3117056060166 {'max_features': 10, 'n_estimators': 50}\n",
      "1704.835687141013 {'max_features': 10, 'n_estimators': 60}\n",
      "1699.3413459129408 {'max_features': 10, 'n_estimators': 80}\n",
      "1700.6004476998808 {'max_features': 10, 'n_estimators': 100}\n",
      "1690.3487461743289 {'max_features': 11, 'n_estimators': 3}\n",
      "1695.2100415725681 {'max_features': 11, 'n_estimators': 10}\n",
      "1697.4314580635073 {'max_features': 11, 'n_estimators': 30}\n",
      "1696.0861203708469 {'max_features': 11, 'n_estimators': 40}\n",
      "1704.268511395711 {'max_features': 11, 'n_estimators': 50}\n",
      "1704.8432683353158 {'max_features': 11, 'n_estimators': 60}\n",
      "1698.4942378939845 {'max_features': 11, 'n_estimators': 80}\n",
      "1702.0736180834863 {'max_features': 11, 'n_estimators': 100}\n",
      "1776.2851017086377 {'bootstrap': False, 'max_features': 2, 'n_estimators': 3}\n",
      "1753.3617610348542 {'bootstrap': False, 'max_features': 2, 'n_estimators': 5}\n",
      "1756.5827448402754 {'bootstrap': False, 'max_features': 2, 'n_estimators': 10}\n",
      "1721.5254402407854 {'bootstrap': False, 'max_features': 3, 'n_estimators': 3}\n",
      "1719.972972420432 {'bootstrap': False, 'max_features': 3, 'n_estimators': 5}\n",
      "1727.631757628274 {'bootstrap': False, 'max_features': 3, 'n_estimators': 10}\n",
      "1728.9754847004876 {'bootstrap': False, 'max_features': 4, 'n_estimators': 3}\n",
      "1721.532563562798 {'bootstrap': False, 'max_features': 4, 'n_estimators': 5}\n",
      "1721.1636735477239 {'bootstrap': False, 'max_features': 4, 'n_estimators': 10}\n",
      "1678.370527785115 {'bootstrap': False, 'max_features': 6, 'n_estimators': 3}\n",
      "1706.1744234988087 {'bootstrap': False, 'max_features': 6, 'n_estimators': 5}\n",
      "1691.2813940605406 {'bootstrap': False, 'max_features': 6, 'n_estimators': 10}\n",
      "1702.7287014037956 {'bootstrap': False, 'max_features': 8, 'n_estimators': 3}\n",
      "1701.6699668165916 {'bootstrap': False, 'max_features': 8, 'n_estimators': 5}\n",
      "1691.5181940286134 {'bootstrap': False, 'max_features': 8, 'n_estimators': 10}\n",
      "1702.3304544952775 {'bootstrap': False, 'max_features': 10, 'n_estimators': 3}\n",
      "1700.5592029540908 {'bootstrap': False, 'max_features': 10, 'n_estimators': 5}\n",
      "1700.2811248859857 {'bootstrap': False, 'max_features': 10, 'n_estimators': 10}\n",
      "1703.0878980253992 {'bootstrap': False, 'max_features': 11, 'n_estimators': 3}\n",
      "1695.4147469654422 {'bootstrap': False, 'max_features': 11, 'n_estimators': 5}\n",
      "1697.3711198423632 {'bootstrap': False, 'max_features': 11, 'n_estimators': 10}\n"
     ]
    }
   ],
   "source": [
    "cvres = grid_search.cv_results_\n",
    "for mean_score, params in zip(cvres['mean_test_score'], cvres['params']): \n",
    "    print(np.sqrt(-mean_score), params)"
   ]
  },
  {
   "cell_type": "code",
   "execution_count": 39,
   "metadata": {},
   "outputs": [
    {
     "data": {
      "text/plain": [
       "0.9991126952469338"
      ]
     },
     "execution_count": 39,
     "metadata": {},
     "output_type": "execute_result"
    }
   ],
   "source": [
    "y_test_pred = grid_search.predict(X_test)\n",
    "r2_score(y_test,y_test_pred)"
   ]
  },
  {
   "cell_type": "code",
   "execution_count": 42,
   "metadata": {},
   "outputs": [],
   "source": [
    "from sklearn.model_selection import RandomizedSearchCV\n",
    "\n",
    "n_estimators = [100]\n",
    "max_features = ['auto', 'sqrt']\n",
    "max_depth = [5, 10, 20]\n",
    "max_depth.append(None)\n",
    "min_samples_split = [2, 5, 10]\n",
    "min_samples_leaf = [1, 2, 4]\n",
    "random_grid = {'n_estimators': n_estimators,\n",
    "                 'max_features': max_features,\n",
    "                 'max_depth': max_depth,\n",
    "                 'min_samples_split': min_samples_split,\n",
    "                 'min_samples_leaf': min_samples_leaf}\n",
    "forest_reg = RandomForestRegressor()"
   ]
  },
  {
   "cell_type": "code",
   "execution_count": 44,
   "metadata": {},
   "outputs": [
    {
     "data": {
      "text/plain": [
       "RandomizedSearchCV(cv=5, estimator=RandomForestRegressor(), n_jobs=-1,\n",
       "                   param_distributions={'max_depth': [5, 10, 20, None],\n",
       "                                        'max_features': ['auto', 'sqrt'],\n",
       "                                        'min_samples_leaf': [1, 2, 4],\n",
       "                                        'min_samples_split': [2, 5, 10],\n",
       "                                        'n_estimators': [100]},\n",
       "                   random_state=100)"
      ]
     },
     "execution_count": 44,
     "metadata": {},
     "output_type": "execute_result"
    }
   ],
   "source": [
    "random_Search = RandomizedSearchCV(forest_reg, random_grid, cv = 5,n_iter =10,verbose=0, random_state=100 , n_jobs = -1)\n",
    "random_Search.fit(X_train, y_train)"
   ]
  },
  {
   "cell_type": "code",
   "execution_count": 45,
   "metadata": {},
   "outputs": [
    {
     "data": {
      "text/plain": [
       "{'n_estimators': 100,\n",
       " 'min_samples_split': 10,\n",
       " 'min_samples_leaf': 2,\n",
       " 'max_features': 'auto',\n",
       " 'max_depth': 20}"
      ]
     },
     "execution_count": 45,
     "metadata": {},
     "output_type": "execute_result"
    }
   ],
   "source": [
    "random_Search.best_params_"
   ]
  },
  {
   "cell_type": "code",
   "execution_count": 46,
   "metadata": {},
   "outputs": [
    {
     "data": {
      "text/plain": [
       "RandomForestRegressor(max_depth=20, min_samples_leaf=2, min_samples_split=10)"
      ]
     },
     "execution_count": 46,
     "metadata": {},
     "output_type": "execute_result"
    }
   ],
   "source": [
    "random_Search.best_estimator_"
   ]
  },
  {
   "cell_type": "code",
   "execution_count": 47,
   "metadata": {},
   "outputs": [
    {
     "data": {
      "text/plain": [
       "0.7800766609683286"
      ]
     },
     "execution_count": 47,
     "metadata": {},
     "output_type": "execute_result"
    }
   ],
   "source": [
    "random_Search.best_score_"
   ]
  },
  {
   "cell_type": "code",
   "execution_count": 48,
   "metadata": {},
   "outputs": [
    {
     "data": {
      "text/plain": [
       "RandomForestRegressor(max_depth=20, min_samples_leaf=2, min_samples_split=10)"
      ]
     },
     "execution_count": 48,
     "metadata": {},
     "output_type": "execute_result"
    }
   ],
   "source": [
    "newRandomForest = RandomForestRegressor(max_depth=20, min_samples_leaf=2, min_samples_split=10)\n",
    "newRandomForest.fit(X_train,y_train)"
   ]
  },
  {
   "cell_type": "code",
   "execution_count": 64,
   "metadata": {},
   "outputs": [],
   "source": [
    "y_test_pred = newRandomForest.predict(X_train)"
   ]
  },
  {
   "cell_type": "code",
   "execution_count": 65,
   "metadata": {},
   "outputs": [
    {
     "data": {
      "text/plain": [
       "[<matplotlib.lines.Line2D at 0x1c709d65100>]"
      ]
     },
     "execution_count": 65,
     "metadata": {},
     "output_type": "execute_result"
    },
    {
     "data": {
      "image/png": "[encoded data removed]",
      "text/plain": [
       "<Figure size 432x288 with 1 Axes>"
      ]
     },
     "metadata": {
      "needs_background": "light"
     },
     "output_type": "display_data"
    }
   ],
   "source": [
    "data2 = pd.read_csv(\"NewMachine.csv\")\n",
    "plt.plot(data2['CloseTime'],data2['Close'])"
   ]
  },
  {
   "cell_type": "code",
   "execution_count": 67,
   "metadata": {},
   "outputs": [],
   "source": [
    "data2 = data2[:190000]"
   ]
  },
  {
   "cell_type": "code",
   "execution_count": 70,
   "metadata": {},
   "outputs": [
    {
     "data": {
      "image/png": "[encoded data removed]",
      "text/plain": [
       "<Figure size 720x720 with 1 Axes>"
      ]
     },
     "metadata": {
      "needs_background": "light"
     },
     "output_type": "display_data"
    }
   ],
   "source": [
    "plt.figure(figsize=(10,10))\n",
    "plt.plot(data2['CloseTime'],data2['Close'])\n",
    "plt.plot(data2['CloseTime'],y_test_pred)\n",
    "plt.savefig(\"MachineAndPred\")"
   ]
  },
  {
   "cell_type": "code",
   "execution_count": 74,
   "metadata": {},
   "outputs": [
    {
     "name": "stdout",
     "output_type": "stream",
     "text": [
      "Model : Regular RF Score :  0.9999962034742689\n",
      "Model : Grid Search RF Score :  -3.2882606140068516e-24\n",
      "Model : Randomized Search RF Score :  0.9999901411514448\n",
      "Model : After Randomized Search RF Score :  0.9999901103124362\n",
      "------------------- \n",
      "Model : Regular RF MSE Score :  37064.74452362521\n",
      "Model : Grid Search RF MSE Score :  44451.075258126024\n",
      "Model : Randomized Search RF MSE Score :  36087.81712975222\n",
      "Model : After Randomized Search RF MSE Score :  36512.52657933012\n",
      "------------------- \n",
      "Model : Regular RF RMSE Score :  192.52206243343957\n",
      "Model : Grid Search RF RMSE Score :  210.83423644684945\n",
      "Model : Randomized Search RF RMSE Score :  189.96793710979813\n",
      "Model : After Randomized Search RF RMSE Score :  191.08251248957902\n",
      "------------------- \n",
      "Model : Regular RF R2 Score :  0.9992522386208773\n",
      "Model : Grid Search RF R2 Score :  0.9991038266399299\n",
      "Model : Randomized Search RF R2 Score :  0.9992720812606795\n",
      "Model : After Randomized Search RF R2 Score :  0.9992636189027816\n"
     ]
    }
   ],
   "source": [
    "from sklearn.metrics import accuracy_score\n",
    "pred_y_regularRf = rand_forest.predict(X_test)\n",
    "pred_y_gridRf = grid_search.predict(X_test)\n",
    "pred_y_randomrRf = random_Search.predict(X_test)\n",
    "pred_y_afterRandomRf = newRandomForest.predict(X_test)\n",
    "\n",
    "def WriteScores(): \n",
    "    print(\"Model : Regular RF Score : \",rand_forest.score(X_train, y_train))\n",
    "    print(\"Model : Grid Search RF Score : \",grid_search.score(X_train, y_train))\n",
    "    print(\"Model : Randomized Search RF Score : \",random_Search.score(X_train, y_train))\n",
    "    print(\"Model : After Randomized Search RF Score : \",newRandomForest.score(X_train, y_train))\n",
    "    print(\"------------------- \")\n",
    "    print(\"Model : Regular RF MSE Score : \",mean_squared_error(pred_y_regularRf,y_test))\n",
    "    print(\"Model : Grid Search RF MSE Score : \",mean_squared_error(pred_y_gridRf,y_test))\n",
    "    print(\"Model : Randomized Search RF MSE Score : \",mean_squared_error(pred_y_randomrRf,y_test))\n",
    "    print(\"Model : After Randomized Search RF MSE Score : \",mean_squared_error(pred_y_afterRandomRf,y_test))\n",
    "    print(\"------------------- \")\n",
    "    print(\"Model : Regular RF RMSE Score : \",np.sqrt(mean_squared_error(pred_y_regularRf,y_test)))\n",
    "    print(\"Model : Grid Search RF RMSE Score : \",np.sqrt(mean_squared_error(pred_y_gridRf,y_test)))\n",
    "    print(\"Model : Randomized Search RF RMSE Score : \",np.sqrt(mean_squared_error(pred_y_randomrRf,y_test)))\n",
    "    print(\"Model : After Randomized Search RF RMSE Score : \",np.sqrt(mean_squared_error(pred_y_afterRandomRf,y_test)))\n",
    "    print(\"------------------- \")\n",
    "    print(\"Model : Regular RF R2 Score : \",r2_score(pred_y_regularRf,y_test))\n",
    "    print(\"Model : Grid Search RF R2 Score : \",r2_score(pred_y_gridRf,y_test))\n",
    "    print(\"Model : Randomized Search RF R2 Score : \",r2_score(pred_y_randomrRf,y_test))\n",
    "    print(\"Model : After Randomized Search RF R2 Score : \",r2_score(pred_y_afterRandomRf,y_test))\n",
    "WriteScores()"
   ]
  },
  {
   "cell_type": "code",
   "execution_count": 78,
   "metadata": {},
   "outputs": [
    {
     "name": "stdout",
     "output_type": "stream",
     "text": [
      "Expected Result : 44743\n",
      "[44782.5966] [45113.07] [44748.85858187] [44735.09039088]\n"
     ]
    }
   ],
   "source": [
    "col_names = [\"Open\",\"High\",\"Low\",\"Close\",\"Volume\",\"RSI\",\"MACD\",\"MACDSIGNAL\",\"MACDHIST\",\"STOCHK\",\"STOCHD\"]\n",
    "datas = [[44734.06,44747.94,44724.68,44736.59,54.46984,60.72,13.19,8.68,4.51,81.52,61.42]]\n",
    "tryData = pd.DataFrame(datas, columns = col_names)\n",
    "regularRf = rand_forest.predict(tryData)\n",
    "gridRf = grid_search.predict(tryData)\n",
    "randomRf = random_Search.predict(tryData)\n",
    "newRfTry = newRandomForest.predict(tryData)\n",
    "print(\"Expected Result : 44743\")\n",
    "print(regularRf,gridRf, randomRf, newRfTry)"
   ]
  }
 ],
 "metadata": {
  "kernelspec": {
   "display_name": "Python 3",
   "language": "python",
   "name": "python3"
  },
  "language_info": {
   "codemirror_mode": {
    "name": "ipython",
    "version": 3
   },
   "file_extension": ".py",
   "mimetype": "text/x-python",
   "name": "python",
   "nbconvert_exporter": "python",
   "pygments_lexer": "ipython3",
   "version": "3.8.5"
  }
 },
 "nbformat": 4,
 "nbformat_minor": 4
}
