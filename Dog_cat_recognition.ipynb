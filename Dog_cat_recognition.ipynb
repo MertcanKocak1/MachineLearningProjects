{
 "cells": [
  {
   "cell_type": "markdown",
   "metadata": {
    "colab_type": "text",
    "id": "3DR-eO17geWu"
   },
   "source": [
    "# Convolutional Neural Network"
   ]
  },
  {
   "cell_type": "markdown",
   "metadata": {
    "colab_type": "text",
    "id": "EMefrVPCg-60"
   },
   "source": [
    "### Importing the libraries"
   ]
  },
  {
   "cell_type": "code",
   "execution_count": 1,
   "metadata": {
    "colab": {},
    "colab_type": "code",
    "id": "sCV30xyVhFbE"
   },
   "outputs": [],
   "source": [
    "import tensorflow as tf\n",
    "from keras.preprocessing.image import ImageDataGenerator"
   ]
  },
  {
   "cell_type": "code",
   "execution_count": 2,
   "metadata": {
    "colab": {},
    "colab_type": "code",
    "id": "FIleuCAjoFD8"
   },
   "outputs": [
    {
     "data": {
      "text/plain": [
       "'2.8.0'"
      ]
     },
     "execution_count": 2,
     "metadata": {},
     "output_type": "execute_result"
    }
   ],
   "source": [
    "tf.__version__"
   ]
  },
  {
   "cell_type": "markdown",
   "metadata": {
    "colab_type": "text",
    "id": "oxQxCBWyoGPE"
   },
   "source": [
    "## Part 1 - Data Preprocessing"
   ]
  },
  {
   "cell_type": "markdown",
   "metadata": {
    "colab_type": "text",
    "id": "MvE-heJNo3GG"
   },
   "source": [
    "### Preprocessing the Training set"
   ]
  },
  {
   "cell_type": "code",
   "execution_count": 3,
   "metadata": {
    "colab": {},
    "colab_type": "code",
    "id": "0koUcJMJpEBD"
   },
   "outputs": [
    {
     "name": "stdout",
     "output_type": "stream",
     "text": [
      "Found 8000 images belonging to 2 classes.\n"
     ]
    }
   ],
   "source": [
    "train_datagen = ImageDataGenerator(rescale = 1./255,\n",
    "                                   shear_range = 0.2,\n",
    "                                   zoom_range = 0.2,\n",
    "                                   horizontal_flip = True)\n",
    "training_set = train_datagen.flow_from_directory('dataset/training_set',\n",
    "                                                 target_size = (64, 64),\n",
    "                                                 batch_size = 32,\n",
    "                                                 class_mode = 'binary')"
   ]
  },
  {
   "cell_type": "markdown",
   "metadata": {
    "colab_type": "text",
    "id": "mrCMmGw9pHys"
   },
   "source": [
    "### Preprocessing the Test set"
   ]
  },
  {
   "cell_type": "code",
   "execution_count": 4,
   "metadata": {
    "colab": {},
    "colab_type": "code",
    "id": "SH4WzfOhpKc3"
   },
   "outputs": [
    {
     "name": "stdout",
     "output_type": "stream",
     "text": [
      "Found 2011 images belonging to 2 classes.\n"
     ]
    }
   ],
   "source": [
    "test_datagen = ImageDataGenerator(rescale = 1./255)\n",
    "test_set = test_datagen.flow_from_directory('dataset/test_set',\n",
    "                                            target_size = (64, 64),\n",
    "                                            batch_size = 32,\n",
    "                                            class_mode = 'binary')"
   ]
  },
  {
   "cell_type": "markdown",
   "metadata": {
    "colab_type": "text",
    "id": "af8O4l90gk7B"
   },
   "source": [
    "## Part 2 - Building the CNN"
   ]
  },
  {
   "cell_type": "markdown",
   "metadata": {
    "colab_type": "text",
    "id": "ces1gXY2lmoX"
   },
   "source": [
    "### Initialising the CNN"
   ]
  },
  {
   "cell_type": "code",
   "execution_count": 5,
   "metadata": {},
   "outputs": [],
   "source": [
    "from tensorflow.keras.models import Sequential\n",
    "from tensorflow.keras.layers import Dense, Flatten, Conv2D\n",
    "cnn = Sequential()"
   ]
  },
  {
   "cell_type": "markdown",
   "metadata": {
    "colab_type": "text",
    "id": "u5YJj_XMl5LF"
   },
   "source": [
    "### Step 1 - Convolution"
   ]
  },
  {
   "cell_type": "code",
   "execution_count": 6,
   "metadata": {},
   "outputs": [],
   "source": [
    "cnn.add(Conv2D(input_shape = [64, 64, 3], kernel_size = 3, activation = 'relu',filters = 32 ))"
   ]
  },
  {
   "cell_type": "markdown",
   "metadata": {
    "colab_type": "text",
    "id": "tf87FpvxmNOJ"
   },
   "source": [
    "### Step 2 - Pooling"
   ]
  },
  {
   "cell_type": "code",
   "execution_count": 7,
   "metadata": {},
   "outputs": [],
   "source": [
    "from tensorflow.keras.layers import MaxPool2D\n",
    "cnn.add(MaxPool2D(pool_size = 2, strides = 2))"
   ]
  },
  {
   "cell_type": "markdown",
   "metadata": {
    "colab_type": "text",
    "id": "xaTOgD8rm4mU"
   },
   "source": [
    "### Adding a second convolutional layer"
   ]
  },
  {
   "cell_type": "code",
   "execution_count": 8,
   "metadata": {},
   "outputs": [],
   "source": [
    "cnn.add(Conv2D(kernel_size = 3, activation = 'relu',filters = 32 ))\n",
    "cnn.add(MaxPool2D(pool_size = 2, strides = 2))"
   ]
  },
  {
   "cell_type": "markdown",
   "metadata": {
    "colab_type": "text",
    "id": "tmiEuvTunKfk"
   },
   "source": [
    "### Step 3 - Flattening"
   ]
  },
  {
   "cell_type": "code",
   "execution_count": 9,
   "metadata": {},
   "outputs": [],
   "source": [
    "cnn.add(Flatten())"
   ]
  },
  {
   "cell_type": "markdown",
   "metadata": {
    "colab_type": "text",
    "id": "dAoSECOm203v"
   },
   "source": [
    "### Step 4 - Full Connection"
   ]
  },
  {
   "cell_type": "code",
   "execution_count": 10,
   "metadata": {},
   "outputs": [],
   "source": [
    "cnn.add(Dense(128,activation = 'relu'))\n",
    "cnn.add(Dense(128,activation = 'relu'))"
   ]
  },
  {
   "cell_type": "markdown",
   "metadata": {
    "colab_type": "text",
    "id": "yTldFvbX28Na"
   },
   "source": [
    "### Step 5 - Output Layer"
   ]
  },
  {
   "cell_type": "code",
   "execution_count": 11,
   "metadata": {},
   "outputs": [],
   "source": [
    "cnn.add(Dense(1, activation = 'sigmoid'))"
   ]
  },
  {
   "cell_type": "markdown",
   "metadata": {
    "colab_type": "text",
    "id": "D6XkI90snSDl"
   },
   "source": [
    "## Part 3 - Training the CNN"
   ]
  },
  {
   "cell_type": "markdown",
   "metadata": {
    "colab_type": "text",
    "id": "vfrFQACEnc6i"
   },
   "source": [
    "### Compiling the CNN"
   ]
  },
  {
   "cell_type": "code",
   "execution_count": 12,
   "metadata": {},
   "outputs": [],
   "source": [
    "cnn.compile(optimizer='adam', loss = 'binary_crossentropy', metrics=['accuracy'])"
   ]
  },
  {
   "cell_type": "markdown",
   "metadata": {
    "colab_type": "text",
    "id": "ehS-v3MIpX2h"
   },
   "source": [
    "### Training the CNN on the Training set and evaluating it on the Test set"
   ]
  },
  {
   "cell_type": "code",
   "execution_count": 13,
   "metadata": {},
   "outputs": [
    {
     "name": "stdout",
     "output_type": "stream",
     "text": [
      "Epoch 1/25\n",
      "250/250 [==============================] - 65s 258ms/step - loss: 0.6572 - accuracy: 0.6011 - val_loss: 0.6983 - val_accuracy: 0.5873\n",
      "Epoch 2/25\n",
      "250/250 [==============================] - 61s 242ms/step - loss: 0.6110 - accuracy: 0.6587 - val_loss: 0.5925 - val_accuracy: 0.6832\n",
      "Epoch 3/25\n",
      "250/250 [==============================] - 58s 231ms/step - loss: 0.5766 - accuracy: 0.6964 - val_loss: 0.5420 - val_accuracy: 0.7235\n",
      "Epoch 4/25\n",
      "250/250 [==============================] - 49s 194ms/step - loss: 0.5553 - accuracy: 0.7179 - val_loss: 0.5293 - val_accuracy: 0.7374\n",
      "Epoch 5/25\n",
      "250/250 [==============================] - 56s 223ms/step - loss: 0.5201 - accuracy: 0.7401 - val_loss: 0.5472 - val_accuracy: 0.7360\n",
      "Epoch 6/25\n",
      "250/250 [==============================] - 58s 232ms/step - loss: 0.4930 - accuracy: 0.7619 - val_loss: 0.5545 - val_accuracy: 0.7215\n",
      "Epoch 7/25\n",
      "250/250 [==============================] - 55s 220ms/step - loss: 0.4716 - accuracy: 0.7711 - val_loss: 0.5458 - val_accuracy: 0.7315\n",
      "Epoch 8/25\n",
      "250/250 [==============================] - 55s 220ms/step - loss: 0.4643 - accuracy: 0.7800 - val_loss: 0.4861 - val_accuracy: 0.7673\n",
      "Epoch 9/25\n",
      "250/250 [==============================] - 54s 218ms/step - loss: 0.4430 - accuracy: 0.7920 - val_loss: 0.4840 - val_accuracy: 0.7772\n",
      "Epoch 10/25\n",
      "250/250 [==============================] - 54s 216ms/step - loss: 0.4258 - accuracy: 0.7980 - val_loss: 0.5000 - val_accuracy: 0.7648\n",
      "Epoch 11/25\n",
      "250/250 [==============================] - 54s 217ms/step - loss: 0.4152 - accuracy: 0.8112 - val_loss: 0.5230 - val_accuracy: 0.7618\n",
      "Epoch 12/25\n",
      "250/250 [==============================] - 60s 240ms/step - loss: 0.3886 - accuracy: 0.8221 - val_loss: 0.5031 - val_accuracy: 0.7877\n",
      "Epoch 13/25\n",
      "250/250 [==============================] - 58s 232ms/step - loss: 0.3809 - accuracy: 0.8260 - val_loss: 0.4821 - val_accuracy: 0.7742\n",
      "Epoch 14/25\n",
      "250/250 [==============================] - 56s 224ms/step - loss: 0.3573 - accuracy: 0.8391 - val_loss: 0.4974 - val_accuracy: 0.7772\n",
      "Epoch 15/25\n",
      "250/250 [==============================] - 54s 216ms/step - loss: 0.3418 - accuracy: 0.8501 - val_loss: 0.5238 - val_accuracy: 0.7732\n",
      "Epoch 16/25\n",
      "250/250 [==============================] - 53s 214ms/step - loss: 0.3411 - accuracy: 0.8515 - val_loss: 0.5261 - val_accuracy: 0.7921\n",
      "Epoch 17/25\n",
      "250/250 [==============================] - 50s 200ms/step - loss: 0.3182 - accuracy: 0.8627 - val_loss: 0.5771 - val_accuracy: 0.7608\n",
      "Epoch 18/25\n",
      "250/250 [==============================] - 55s 218ms/step - loss: 0.2963 - accuracy: 0.8723 - val_loss: 0.5906 - val_accuracy: 0.7727\n",
      "Epoch 19/25\n",
      "250/250 [==============================] - 52s 208ms/step - loss: 0.2899 - accuracy: 0.8752 - val_loss: 0.5467 - val_accuracy: 0.7782\n",
      "Epoch 20/25\n",
      "250/250 [==============================] - 56s 222ms/step - loss: 0.2710 - accuracy: 0.8860 - val_loss: 0.6028 - val_accuracy: 0.7772\n",
      "Epoch 21/25\n",
      "250/250 [==============================] - 49s 194ms/step - loss: 0.2645 - accuracy: 0.8886 - val_loss: 0.6278 - val_accuracy: 0.7703\n",
      "Epoch 22/25\n",
      "250/250 [==============================] - 57s 229ms/step - loss: 0.2474 - accuracy: 0.8956 - val_loss: 0.5517 - val_accuracy: 0.7872\n",
      "Epoch 23/25\n",
      "250/250 [==============================] - 56s 223ms/step - loss: 0.2187 - accuracy: 0.9095 - val_loss: 0.6897 - val_accuracy: 0.7678\n",
      "Epoch 24/25\n",
      "250/250 [==============================] - 53s 212ms/step - loss: 0.2219 - accuracy: 0.9085 - val_loss: 0.6372 - val_accuracy: 0.7847\n",
      "Epoch 25/25\n",
      "250/250 [==============================] - 52s 209ms/step - loss: 0.2115 - accuracy: 0.9165 - val_loss: 0.6282 - val_accuracy: 0.7708\n"
     ]
    },
    {
     "data": {
      "text/plain": [
       "<keras.callbacks.History at 0x280666be670>"
      ]
     },
     "execution_count": 13,
     "metadata": {},
     "output_type": "execute_result"
    }
   ],
   "source": [
    "cnn.fit(x = training_set, validation_data=test_set,epochs=25)"
   ]
  },
  {
   "cell_type": "markdown",
   "metadata": {
    "colab_type": "text",
    "id": "U3PZasO0006Z"
   },
   "source": [
    "## Part 4 - Making a single prediction"
   ]
  },
  {
   "cell_type": "code",
   "execution_count": 24,
   "metadata": {},
   "outputs": [],
   "source": [
    "import numpy as np\n",
    "from tensorflow.keras.preprocessing import image\n",
    "test_image = image.load_img('dataset/single_prediction/cat_or_dog_7.jpg', target_size = (64, 64))\n",
    "test_image = image.img_to_array(test_image)\n",
    "test_image = np.expand_dims(test_image, axis = 0)\n",
    "result = cnn.predict(test_image)\n",
    "training_set.class_indices\n",
    "if result[0][0] == 1:\n",
    "  prediction = 'dog'\n",
    "else:\n",
    "  prediction = 'cat'"
   ]
  },
  {
   "cell_type": "code",
   "execution_count": 25,
   "metadata": {},
   "outputs": [
    {
     "name": "stdout",
     "output_type": "stream",
     "text": [
      "dog\n"
     ]
    }
   ],
   "source": [
    "print(prediction)"
   ]
  },
  {
   "cell_type": "code",
   "execution_count": null,
   "metadata": {},
   "outputs": [],
   "source": []
  }
 ],
 "metadata": {
  "colab": {
   "collapsed_sections": [],
   "name": "convolutional_neural_network.ipynb",
   "provenance": [],
   "toc_visible": true
  },
  "kernelspec": {
   "display_name": "Python 3",
   "language": "python",
   "name": "python3"
  },
  "language_info": {
   "codemirror_mode": {
    "name": "ipython",
    "version": 3
   },
   "file_extension": ".py",
   "mimetype": "text/x-python",
   "name": "python",
   "nbconvert_exporter": "python",
   "pygments_lexer": "ipython3",
   "version": "3.8.5"
  }
 },
 "nbformat": 4,
 "nbformat_minor": 4
}
